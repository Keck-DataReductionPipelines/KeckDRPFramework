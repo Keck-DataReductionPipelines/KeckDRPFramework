{
 "cells": [
  {
   "cell_type": "markdown",
   "metadata": {},
   "source": [
    "## Test interfacing with a remote DRP framework\n",
    "\n",
    "Created: 2020-04-17, skwok"
   ]
  },
  {
   "cell_type": "code",
   "execution_count": null,
   "metadata": {},
   "outputs": [],
   "source": [
    "import sys\n",
    "import time\n",
    "import glob\n",
    "\n",
    "from interface import FrameworkInterface, Arguments, Event, Framework, ConfigClass\n"
   ]
  },
  {
   "cell_type": "markdown",
   "metadata": {},
   "source": [
    "### Some help functions"
   ]
  },
  {
   "cell_type": "code",
   "execution_count": null,
   "metadata": {},
   "outputs": [],
   "source": [
    "def print_pending_events (drpif):\n",
    "    \"\"\"\n",
    "    Prints pending events, ie. events that are in the event queue.\n",
    "    \"\"\"\n",
    "    if drpif.is_queue_ok():\n",
    "        events = drpif.pending_events()\n",
    "        for pe in events:\n",
    "            print (pe)\n",
    "    else:\n",
    "        print (\"Pending events: Queue not available\", drpif.queue)"
   ]
  },
  {
   "cell_type": "code",
   "execution_count": null,
   "metadata": {},
   "outputs": [],
   "source": [
    "def ingest_files (drpif, filelist):\n",
    "    \"\"\"\n",
    "    Ingests 'next_file' events into the event queue.    \n",
    "    \"\"\"\n",
    "    if drpif.is_queue_ok():\n",
    "        for f in files:\n",
    "            event = Event (\"next_file\", Arguments (name=f))\n",
    "            print (\"Adding \", f)\n",
    "            drpif.add_event(event)\n",
    "    else:\n",
    "        print (\"Ingest files: Queue not available\", drpif.queue)    "
   ]
  },
  {
   "cell_type": "markdown",
   "metadata": {},
   "source": [
    "### Get the DRPF interface to the queue manager\n",
    "\n",
    "First, check is the queue is available, ie. if the queue manager process is already running.\n",
    "If not, then start the queue manager process."
   ]
  },
  {
   "cell_type": "code",
   "execution_count": null,
   "metadata": {},
   "outputs": [],
   "source": [
    "cfg = ConfigClass (\"multi_config.cfg\")\n",
    "drpf_IF = FrameworkInterface(cfg)\n",
    "\n",
    "if not drpf_IF.is_queue_ok():\n",
    "    print (\"Staring the queue manager\")\n",
    "    res = drpf_IF.start_event_queue ()\n",
    "    if res is None:\n",
    "        print (\"Faile to start queue\")\n",
    "\n",
    "#\n",
    "# Check again\n",
    "#\n",
    "if not drpf_IF.is_queue_ok():\n",
    "    print (\"Failed to get remote event queue\")\n",
    "else:\n",
    "    print (\"Event queue ready\")"
   ]
  },
  {
   "cell_type": "markdown",
   "metadata": {},
   "source": [
    "### Add some data to the event queue\n",
    "\n",
    "Check if DRPF queue manager is alive\n",
    "then ingest some data files\n",
    "and print the pending events\n"
   ]
  },
  {
   "cell_type": "code",
   "execution_count": null,
   "metadata": {},
   "outputs": [],
   "source": [
    "files = glob.glob(\"../../keckdrpframework/unit_tests/test_files/*.fits\")\n",
    "ingest_files(drpf_IF, files)    "
   ]
  },
  {
   "cell_type": "markdown",
   "metadata": {},
   "source": [
    "### Show how many events are in the queue"
   ]
  },
  {
   "cell_type": "code",
   "execution_count": null,
   "metadata": {},
   "outputs": [],
   "source": [
    "print_pending_events(drpf_IF)"
   ]
  },
  {
   "cell_type": "markdown",
   "metadata": {},
   "source": [
    "### Handle the events\n",
    "\n",
    "At this point, there are two choices:\n",
    "- Start a process or multiple processes to handle the events\n",
    "- Invoke main_loop here \n",
    "\n",
    "\n",
    "The pipeline used in this notebook is the example pipeline included in the repository.\n",
    "\n",
    "Run the following command in a xterm to process the data:\n",
    "```\n",
    "   cd ../../keckdrpframework/example\n",
    "   sh runTest_harness2.sh -c config.cfg\n",
    "```   \n",
    "   "
   ]
  },
  {
   "cell_type": "code",
   "execution_count": null,
   "metadata": {},
   "outputs": [],
   "source": [
    "#\n",
    "# Choice #2, Invoking main_loop.\n",
    "#\n",
    "from keckdrpframework.examples.pipelines.fits2png_pipeline import Fits2pngPipeline\n",
    "drpf = Framework(Fits2pngPipeline, \"multi_config.cfg\")\n",
    "drpf.main_loop()"
   ]
  },
  {
   "cell_type": "markdown",
   "metadata": {},
   "source": [
    "### Stop the queue manager"
   ]
  },
  {
   "cell_type": "code",
   "execution_count": null,
   "metadata": {},
   "outputs": [],
   "source": [
    "if drpf_IF.is_queue_ok():\n",
    "    drpf_IF.stop_event_queue()\n",
    "    print (\"Queue manager stopped\")\n",
    "else:\n",
    "    print (\"Queue manager already stopped\")"
   ]
  },
  {
   "cell_type": "code",
   "execution_count": null,
   "metadata": {},
   "outputs": [],
   "source": []
  }
 ],
 "metadata": {
  "kernelspec": {
   "display_name": "Python 3",
   "language": "python",
   "name": "python3"
  },
  "language_info": {
   "codemirror_mode": {
    "name": "ipython",
    "version": 3
   },
   "file_extension": ".py",
   "mimetype": "text/x-python",
   "name": "python",
   "nbconvert_exporter": "python",
   "pygments_lexer": "ipython3",
   "version": "3.7.7"
  }
 },
 "nbformat": 4,
 "nbformat_minor": 4
}
